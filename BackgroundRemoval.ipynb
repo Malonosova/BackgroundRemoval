{
 "cells": [
  {
   "cell_type": "code",
   "execution_count": 46,
   "id": "0f51c4f7",
   "metadata": {},
   "outputs": [],
   "source": [
    "from torchvision import transforms\n",
    "from PIL import Image\n",
    "import os\n",
    "import torch\n",
    "import numpy as np\n",
    "rcParams['figure.figsize'] = (15,4)\n",
    "import matplotlib.pyplot as plt\n",
    "import warnings\n",
    "warnings.filterwarnings('ignore')"
   ]
  },
  {
   "cell_type": "code",
   "execution_count": 47,
   "id": "8af69b99",
   "metadata": {},
   "outputs": [],
   "source": [
    "from src.utils import cascade\n",
    "from src.u2net import U2NET"
   ]
  },
  {
   "cell_type": "code",
   "execution_count": 48,
   "id": "46ae6704",
   "metadata": {},
   "outputs": [],
   "source": [
    "class Removal:\n",
    "    def __init__(self, model_folder=\"model_folder/\", L=300, device='cuda:0'):\n",
    "        self.L = L\n",
    "        self.device = device\n",
    "        self.model_folder = model_folder\n",
    "        self.transform_im = transforms.Compose([\n",
    "                            transforms.Resize((128, 128)),\n",
    "                            transforms.ToTensor(),\n",
    "                            transforms.Normalize((0.485, 0.456, 0.406), (0.229, 0.224, 0.225))])\n",
    "        self.transform_ms = transforms.Compose([\n",
    "                            transforms.Resize((128, 128)),\n",
    "                            transforms.ToTensor()])\n",
    "    def normPRED(self, d):\n",
    "        ma = torch.max(d)\n",
    "        mi = torch.min(d)\n",
    "        return (d-mi)/(ma-mi)\n",
    "        \n",
    "    def pred(self, Image_root, show=True, return_mask=False):\n",
    "        model = U2NET().to(self.device)\n",
    "        model.load_state_dict(torch.load('u2net.pth'))\n",
    "        model.eval()\n",
    "        \n",
    "        image = Image.open(Image_root)\n",
    "        image_t = self.transform_im(image)\n",
    "        mask = self.normPRED(model(image_t.reshape(1, 3, 128, 128).to(self.device))[0][0][0].cpu().detach()).numpy()\n",
    "        \n",
    "        mask_cascade = cascade(self.transform_ms(image), (mask>=0.2)*255, self.model_folder, self.device)\n",
    "        \n",
    "        empty = Image.new(\"RGBA\", image.size, color = 0)\n",
    "        mask1 = Image.fromarray(((mask_cascade>=254) * 255).astype(np.uint8)).resize(image.size)\n",
    "        res = Image.composite(Image.open(Image_root), empty, mask1)\n",
    "        if show:\n",
    "            plt.imshow(res)\n",
    "            plt.axis('off')\n",
    "        if return_mask:\n",
    "            return res, mask1\n",
    "        return res"
   ]
  },
  {
   "cell_type": "code",
   "execution_count": 49,
   "id": "93673ee4",
   "metadata": {},
   "outputs": [],
   "source": [
    "path_im = 'DUTS-TE/DUTS-TE-Image/ILSVRC2012_test_00000025.jpg'\n",
    "image = Removal()"
   ]
  },
  {
   "cell_type": "code",
   "execution_count": 50,
   "id": "4bd95436",
   "metadata": {
    "scrolled": true
   },
   "outputs": [
    {
     "data": {
      "image/png": "[encoded data removed]",
      "text/plain": [
       "<Figure size 1080x288 with 1 Axes>"
      ]
     },
     "metadata": {
      "needs_background": "light"
     },
     "output_type": "display_data"
    }
   ],
   "source": [
    "a = image.pred(path_im)"
   ]
  },
  {
   "cell_type": "code",
   "execution_count": null,
   "id": "59bee716",
   "metadata": {},
   "outputs": [],
   "source": []
  }
 ],
 "metadata": {
  "kernelspec": {
   "display_name": "Python 3 (ipykernel)",
   "language": "python",
   "name": "python3"
  },
  "language_info": {
   "codemirror_mode": {
    "name": "ipython",
    "version": 3
   },
   "file_extension": ".py",
   "mimetype": "text/x-python",
   "name": "python",
   "nbconvert_exporter": "python",
   "pygments_lexer": "ipython3",
   "version": "3.8.13"
  }
 },
 "nbformat": 4,
 "nbformat_minor": 5
}
